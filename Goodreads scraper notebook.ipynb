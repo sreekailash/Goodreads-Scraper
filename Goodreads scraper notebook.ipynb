{
 "cells": [
  {
   "cell_type": "code",
   "execution_count": 10,
   "metadata": {},
   "outputs": [],
   "source": [
    "import requests\n",
    "import csv \n",
    "from bs4 import BeautifulSoup\n",
    "import lxml\n",
    "import re\n",
    "from tqdm import tqdm\n",
    "import time\n",
    "\n",
    "import pandas as pd"
   ]
  },
  {
   "cell_type": "code",
   "execution_count": 11,
   "metadata": {},
   "outputs": [],
   "source": [
    "list_url= 'https://www.goodreads.com/list/show/134.Best_Non_Fiction_no_biographies_'\n",
    "\n",
    "books_df = pd.DataFrame(columns = ['Title', 'Author', 'Description' \n",
    "                                   ,'Num_ratings', 'Avg_rating', 'Genres_list',\n",
    "                                   'Main_genre', 'Secondary_genre' , 'Num_pages', 'ISBN','Link'])\n"
   ]
  },
  {
   "cell_type": "code",
   "execution_count": 12,
   "metadata": {},
   "outputs": [],
   "source": [
    "def get_book_list(list_url, num_pages = 10):\n",
    "    \n",
    "    books_dict = {}\n",
    "    \n",
    "    for i in tqdm(range(1,num_pages)):\n",
    "        bookpage=str(i)\n",
    "        stuff=requests.get(list_url + '?page=' + bookpage)\n",
    "        soup = BeautifulSoup(stuff.text, 'html.parser')\n",
    "\n",
    "        for e in soup.select('.bookTitle'):\n",
    "            books_dict[e.get_text(strip = 'True')] = e['href']\n",
    "\n",
    "        time.sleep(2)\n",
    "    \n",
    "    return books_dict"
   ]
  },
  {
   "cell_type": "code",
   "execution_count": 13,
   "metadata": {},
   "outputs": [],
   "source": [
    "def get_key(val, my_dict): \n",
    "    for key, value in my_dict.items(): \n",
    "         if val == value: \n",
    "                return key \n",
    "  \n",
    "    return \"key doesn't exist\""
   ]
  },
  {
   "cell_type": "code",
   "execution_count": 14,
   "metadata": {},
   "outputs": [],
   "source": [
    "def get_main_genres(d):\n",
    "    \n",
    "    genre_dict = {}\n",
    "    genres = d.select(\"div.elementList div.right a\")\n",
    "        \n",
    "    for g in genres:\n",
    "        genre_dict[g['href'].partition('=')[2]] = int(re.sub(',','',g.get_text().split()[0]))\n",
    "        \n",
    "    if len(genre_dict)>0:\n",
    "        Max_genre = max(genre_dict, key= lambda x: genre_dict[x]) \n",
    "    else:\n",
    "        Max_genre = None\n",
    "    \n",
    "    if len(genre_dict)>1:\n",
    "        second_largest_value = list(sorted(genre_dict.values()))[-2]\n",
    "    else:\n",
    "        second_largest_value = None\n",
    "    \n",
    "    second_genre = get_key(second_largest_value, genre_dict)\n",
    "        \n",
    "    return genre_dict, Max_genre, second_genre"
   ]
  },
  {
   "cell_type": "code",
   "execution_count": 15,
   "metadata": {},
   "outputs": [],
   "source": [
    "def get_book_details(book_url):\n",
    "    \n",
    "    book_dict = {}\n",
    "    \n",
    "    page=requests.get(book_url)\n",
    "    soup=BeautifulSoup(page.text, 'html.parser')\n",
    "    \n",
    "    title = soup.select(\"meta[property='og:title']\")[0]['content']\n",
    "    author = soup.find_all('a', class_ = 'authorName')[0].get_text(strip = True)\n",
    "\n",
    "    desc = soup.find('div', id = 'description')\n",
    "    if desc is not None:\n",
    "        try:\n",
    "            description = desc.find_all('span')[1].get_text()\n",
    "        except:\n",
    "            description = desc.find_all('span')[0].get_text()\n",
    "    else:\n",
    "        description = None\n",
    "\n",
    "    if soup.find('meta', itemprop = 'ratingCount') is not None:\n",
    "        num_ratings = soup.find('meta', itemprop = 'ratingCount')['content']\n",
    "    else:\n",
    "        num_ratings = None\n",
    "\n",
    "    if soup.find('span', itemprop = 'ratingValue') is not None:    \n",
    "        rating = soup.find('span', itemprop = 'ratingValue').get_text(strip = 'True')\n",
    "    else:\n",
    "        rating = None\n",
    "\n",
    "    genre_list, main_genre, secondary_genre = get_main_genres(soup)\n",
    "\n",
    "    if soup.select(\"meta[property='books:page_count']\") is not None and len(soup.select(\"meta[property='books:page_count']\")) != 0: \n",
    "        num_pages = soup.select(\"meta[property='books:page_count']\")[0]['content']\n",
    "    else:\n",
    "        num_pages = None\n",
    "\n",
    "    if soup.select(\"meta[property='books:isbn']\") is not None and len(soup.select(\"meta[property='books:isbn']\")) != 0:\n",
    "        isbn = soup.select(\"meta[property='books:isbn']\")[0]['content']\n",
    "    else:\n",
    "        isbn = None\n",
    "\n",
    "    book_dict = {\n",
    "        'Title' : title,\n",
    "        'Author' : author,\n",
    "        'Description' : description,\n",
    "        'Num_ratings' : num_ratings,\n",
    "        'Avg_rating' : rating,\n",
    "        'Genres_list' : genre_list,\n",
    "        'Main_genre' : main_genre,\n",
    "        'Secondary_genre': secondary_genre,\n",
    "        'Num_pages' : num_pages,\n",
    "        'ISBN' : isbn,\n",
    "        'Link' : book_url\n",
    "    }\n",
    "    \n",
    "    return book_dict"
   ]
  },
  {
   "cell_type": "code",
   "execution_count": 16,
   "metadata": {},
   "outputs": [
    {
     "name": "stderr",
     "output_type": "stream",
     "text": [
      "100%|██████████| 2/2 [00:16<00:00,  8.05s/it]\n"
     ]
    }
   ],
   "source": [
    "books_dict = {}\n",
    "\n",
    "books_dict = get_book_list(list_url, num_pages = 3)"
   ]
  },
  {
   "cell_type": "code",
   "execution_count": null,
   "metadata": {},
   "outputs": [
    {
     "name": "stderr",
     "output_type": "stream",
     "text": [
      "\r",
      "  0%|          | 0/200 [00:00<?, ?it/s]"
     ]
    },
    {
     "name": "stdout",
     "output_type": "stream",
     "text": [
      "Extracting from https://www.goodreads.com//book/show/21996.The_Devil_in_the_White_City\n"
     ]
    },
    {
     "name": "stderr",
     "output_type": "stream",
     "text": [
      "\r",
      "  0%|          | 1/200 [00:05<18:53,  5.69s/it]"
     ]
    },
    {
     "name": "stdout",
     "output_type": "stream",
     "text": [
      "Extracting from https://www.goodreads.com//book/show/1202.Freakonomics\n"
     ]
    },
    {
     "name": "stderr",
     "output_type": "stream",
     "text": [
      "\r",
      "  1%|          | 2/200 [00:11<18:39,  5.65s/it]"
     ]
    },
    {
     "name": "stdout",
     "output_type": "stream",
     "text": [
      "Extracting from https://www.goodreads.com//book/show/21.A_Short_History_of_Nearly_Everything\n"
     ]
    },
    {
     "name": "stderr",
     "output_type": "stream",
     "text": [
      "\r",
      "  2%|▏         | 3/200 [00:16<17:54,  5.46s/it]"
     ]
    },
    {
     "name": "stdout",
     "output_type": "stream",
     "text": [
      "Extracting from https://www.goodreads.com//book/show/1842.Guns_Germs_and_Steel\n"
     ]
    },
    {
     "name": "stderr",
     "output_type": "stream",
     "text": [
      "\r",
      "  2%|▏         | 4/200 [00:21<17:12,  5.27s/it]"
     ]
    },
    {
     "name": "stdout",
     "output_type": "stream",
     "text": [
      "Extracting from https://www.goodreads.com//book/show/3228917-outliers\n"
     ]
    },
    {
     "name": "stderr",
     "output_type": "stream",
     "text": [
      "\r",
      "  2%|▎         | 5/200 [00:26<17:00,  5.24s/it]"
     ]
    },
    {
     "name": "stdout",
     "output_type": "stream",
     "text": [
      "Extracting from https://www.goodreads.com//book/show/1898.Into_Thin_Air\n"
     ]
    },
    {
     "name": "stderr",
     "output_type": "stream",
     "text": [
      "\r",
      "  3%|▎         | 6/200 [00:31<17:11,  5.31s/it]"
     ]
    },
    {
     "name": "stdout",
     "output_type": "stream",
     "text": [
      "Extracting from https://www.goodreads.com//book/show/2612.The_Tipping_Point\n"
     ]
    },
    {
     "name": "stderr",
     "output_type": "stream",
     "text": [
      "\r",
      "  4%|▎         | 7/200 [00:37<17:05,  5.31s/it]"
     ]
    },
    {
     "name": "stdout",
     "output_type": "stream",
     "text": [
      "Extracting from https://www.goodreads.com//book/show/3109.The_Omnivore_s_Dilemma\n"
     ]
    },
    {
     "name": "stderr",
     "output_type": "stream",
     "text": [
      "\r",
      "  4%|▍         | 8/200 [00:42<17:13,  5.38s/it]"
     ]
    },
    {
     "name": "stdout",
     "output_type": "stream",
     "text": [
      "Extracting from https://www.goodreads.com//book/show/32145.Stiff\n"
     ]
    },
    {
     "name": "stderr",
     "output_type": "stream",
     "text": [
      "\r",
      "  4%|▍         | 9/200 [00:48<17:13,  5.41s/it]"
     ]
    },
    {
     "name": "stdout",
     "output_type": "stream",
     "text": [
      "Extracting from https://www.goodreads.com//book/show/1617.Night\n"
     ]
    },
    {
     "name": "stderr",
     "output_type": "stream",
     "text": [
      "\r",
      "  5%|▌         | 10/200 [00:51<15:32,  4.91s/it]"
     ]
    },
    {
     "name": "stdout",
     "output_type": "stream",
     "text": [
      "Extracting from https://www.goodreads.com//book/show/6493208-the-immortal-life-of-henrietta-lacks\n"
     ]
    },
    {
     "name": "stderr",
     "output_type": "stream",
     "text": [
      "\r",
      "  6%|▌         | 11/200 [00:55<14:12,  4.51s/it]"
     ]
    },
    {
     "name": "stdout",
     "output_type": "stream",
     "text": [
      "Extracting from https://www.goodreads.com//book/show/40102.Blink\n"
     ]
    },
    {
     "name": "stderr",
     "output_type": "stream",
     "text": [
      "\r",
      "  6%|▌         | 12/200 [00:58<13:09,  4.20s/it]"
     ]
    },
    {
     "name": "stdout",
     "output_type": "stream",
     "text": [
      "Extracting from https://www.goodreads.com//book/show/386187.Midnight_in_the_Garden_of_Good_and_Evil\n"
     ]
    },
    {
     "name": "stderr",
     "output_type": "stream",
     "text": [
      "\r",
      "  6%|▋         | 13/200 [01:02<12:51,  4.13s/it]"
     ]
    },
    {
     "name": "stdout",
     "output_type": "stream",
     "text": [
      "Extracting from https://www.goodreads.com//book/show/1097.Fast_Food_Nation\n"
     ]
    },
    {
     "name": "stderr",
     "output_type": "stream",
     "text": [
      "\r",
      "  7%|▋         | 14/200 [01:07<13:28,  4.35s/it]"
     ]
    },
    {
     "name": "stdout",
     "output_type": "stream",
     "text": [
      "Extracting from https://www.goodreads.com//book/show/14743.The_God_Delusion\n"
     ]
    },
    {
     "name": "stderr",
     "output_type": "stream",
     "text": [
      "\r",
      "  8%|▊         | 15/200 [01:13<14:55,  4.84s/it]"
     ]
    },
    {
     "name": "stdout",
     "output_type": "stream",
     "text": [
      "Extracting from https://www.goodreads.com//book/show/10847.Under_the_Banner_of_Heaven\n"
     ]
    }
   ],
   "source": [
    "for book in tqdm(list(books_dict.values())):\n",
    "    \n",
    "    book_url = 'https://www.goodreads.com/' + str(book)\n",
    "    print(\"Extracting from {}\".format(book_url))\n",
    "    books_df = books_df.append(get_book_details(book_url), ignore_index= True)"
   ]
  },
  {
   "cell_type": "code",
   "execution_count": 290,
   "metadata": {
    "scrolled": true
   },
   "outputs": [
    {
     "data": {
      "text/html": [
       "<div>\n",
       "<style scoped>\n",
       "    .dataframe tbody tr th:only-of-type {\n",
       "        vertical-align: middle;\n",
       "    }\n",
       "\n",
       "    .dataframe tbody tr th {\n",
       "        vertical-align: top;\n",
       "    }\n",
       "\n",
       "    .dataframe thead th {\n",
       "        text-align: right;\n",
       "    }\n",
       "</style>\n",
       "<table border=\"1\" class=\"dataframe\">\n",
       "  <thead>\n",
       "    <tr style=\"text-align: right;\">\n",
       "      <th></th>\n",
       "      <th>Title</th>\n",
       "      <th>Author</th>\n",
       "      <th>Description</th>\n",
       "      <th>Num_ratings</th>\n",
       "      <th>Avg_rating</th>\n",
       "      <th>Genres_list</th>\n",
       "      <th>Main_genre</th>\n",
       "      <th>Secondary_genre</th>\n",
       "      <th>Num_pages</th>\n",
       "      <th>ISBN</th>\n",
       "      <th>Link</th>\n",
       "    </tr>\n",
       "  </thead>\n",
       "  <tbody>\n",
       "    <tr>\n",
       "      <th>0</th>\n",
       "      <td>Diplomacy</td>\n",
       "      <td>Henry Kissinger</td>\n",
       "      <td>A brilliant, sweeping history of diplomacy tha...</td>\n",
       "      <td>6452</td>\n",
       "      <td>4.22</td>\n",
       "      <td>{'history': 391, 'politics': 325, 'non-fiction...</td>\n",
       "      <td>history</td>\n",
       "      <td>politics</td>\n",
       "      <td>912</td>\n",
       "      <td>9780671510992</td>\n",
       "      <td>https://www.goodreads.com//book/show/781183.Di...</td>\n",
       "    </tr>\n",
       "    <tr>\n",
       "      <th>1</th>\n",
       "      <td>The Happiness Advantage</td>\n",
       "      <td>Shawn Achor</td>\n",
       "      <td>Our most commonly held formula for success is ...</td>\n",
       "      <td>23766</td>\n",
       "      <td>4.18</td>\n",
       "      <td>{'non-fiction': 555, 'psychology': 517, 'self-...</td>\n",
       "      <td>non-fiction</td>\n",
       "      <td>psychology</td>\n",
       "      <td>272</td>\n",
       "      <td>9780307591562</td>\n",
       "      <td>https://www.goodreads.com//book/show/9484114-t...</td>\n",
       "    </tr>\n",
       "    <tr>\n",
       "      <th>2</th>\n",
       "      <td>The Stuff of Thought</td>\n",
       "      <td>Steven Pinker</td>\n",
       "      <td>New York Times bestselling author Steven Pinke...</td>\n",
       "      <td>9712</td>\n",
       "      <td>3.90</td>\n",
       "      <td>{'non-fiction': 593, 'science': 412, 'psycholo...</td>\n",
       "      <td>non-fiction</td>\n",
       "      <td>science</td>\n",
       "      <td>499</td>\n",
       "      <td>9780670063277</td>\n",
       "      <td>https://www.goodreads.com//book/show/373969.Th...</td>\n",
       "    </tr>\n",
       "    <tr>\n",
       "      <th>3</th>\n",
       "      <td>Civilization and Its Discontents</td>\n",
       "      <td>Sigmund Freud</td>\n",
       "      <td>It stands as a brilliant summary of the views ...</td>\n",
       "      <td>30963</td>\n",
       "      <td>3.79</td>\n",
       "      <td>{'psychology': 1218, 'philosophy': 909, 'non-f...</td>\n",
       "      <td>psychology</td>\n",
       "      <td>philosophy</td>\n",
       "      <td>127</td>\n",
       "      <td>9780393301588</td>\n",
       "      <td>https://www.goodreads.com//book/show/357636.Ci...</td>\n",
       "    </tr>\n",
       "    <tr>\n",
       "      <th>4</th>\n",
       "      <td>The Corporation</td>\n",
       "      <td>Joel Bakan</td>\n",
       "      <td>The inspiration for the film that won the 2004...</td>\n",
       "      <td>4084</td>\n",
       "      <td>4.07</td>\n",
       "      <td>{'non-fiction': 196, 'economics': 119, 'politi...</td>\n",
       "      <td>non-fiction</td>\n",
       "      <td>economics</td>\n",
       "      <td>228</td>\n",
       "      <td>9780743247467</td>\n",
       "      <td>https://www.goodreads.com//book/show/108583.Th...</td>\n",
       "    </tr>\n",
       "    <tr>\n",
       "      <th>...</th>\n",
       "      <td>...</td>\n",
       "      <td>...</td>\n",
       "      <td>...</td>\n",
       "      <td>...</td>\n",
       "      <td>...</td>\n",
       "      <td>...</td>\n",
       "      <td>...</td>\n",
       "      <td>...</td>\n",
       "      <td>...</td>\n",
       "      <td>...</td>\n",
       "      <td>...</td>\n",
       "    </tr>\n",
       "    <tr>\n",
       "      <th>306</th>\n",
       "      <td>A Treasury of Deception</td>\n",
       "      <td>Michael Farquhar</td>\n",
       "      <td>We may say that honesty is the best policy, bu...</td>\n",
       "      <td>657</td>\n",
       "      <td>3.62</td>\n",
       "      <td>{'history': 84, 'non-fiction': 62, 'historical...</td>\n",
       "      <td>history</td>\n",
       "      <td>non-fiction</td>\n",
       "      <td>304</td>\n",
       "      <td>9780143035442</td>\n",
       "      <td>https://www.goodreads.com//book/show/401503.A_...</td>\n",
       "    </tr>\n",
       "    <tr>\n",
       "      <th>307</th>\n",
       "      <td>The Girls Who Went Away</td>\n",
       "      <td>Ann Fessler</td>\n",
       "      <td>A powerful and groundbreaking revelation of th...</td>\n",
       "      <td>5819</td>\n",
       "      <td>4.19</td>\n",
       "      <td>{'non-fiction': 438, 'history': 279, 'feminism...</td>\n",
       "      <td>non-fiction</td>\n",
       "      <td>history</td>\n",
       "      <td>354</td>\n",
       "      <td>9781594200946</td>\n",
       "      <td>https://www.goodreads.com//book/show/116477.Th...</td>\n",
       "    </tr>\n",
       "    <tr>\n",
       "      <th>308</th>\n",
       "      <td>Fatal Vision</td>\n",
       "      <td>Joe McGinniss</td>\n",
       "      <td>Fatal Vision is the electrifying true story of...</td>\n",
       "      <td>22182</td>\n",
       "      <td>4.11</td>\n",
       "      <td>{'true-crime': 739, 'non-fiction': 306, 'crime...</td>\n",
       "      <td>true-crime</td>\n",
       "      <td>non-fiction</td>\n",
       "      <td>684</td>\n",
       "      <td>9780451165664</td>\n",
       "      <td>https://www.goodreads.com//book/show/333907.Fa...</td>\n",
       "    </tr>\n",
       "    <tr>\n",
       "      <th>309</th>\n",
       "      <td>The Divided Self</td>\n",
       "      <td>R.D. Laing</td>\n",
       "      <td>In The Divided Self (1960), Laing contrasted t...</td>\n",
       "      <td>4869</td>\n",
       "      <td>4.09</td>\n",
       "      <td>{'psychology': 463, 'non-fiction': 182, 'philo...</td>\n",
       "      <td>psychology</td>\n",
       "      <td>non-fiction</td>\n",
       "      <td>224</td>\n",
       "      <td>9780140135374</td>\n",
       "      <td>https://www.goodreads.com//book/show/496585.Th...</td>\n",
       "    </tr>\n",
       "    <tr>\n",
       "      <th>310</th>\n",
       "      <td>Purple Cow</td>\n",
       "      <td>Seth Godin</td>\n",
       "      <td>The acclaimed Wall Street Journal and Business...</td>\n",
       "      <td>43510</td>\n",
       "      <td>3.77</td>\n",
       "      <td>{'business': 1317, 'non-fiction': 308, 'entrep...</td>\n",
       "      <td>business</td>\n",
       "      <td>non-fiction</td>\n",
       "      <td>160</td>\n",
       "      <td>9781591840213</td>\n",
       "      <td>https://www.goodreads.com//book/show/641604.Pu...</td>\n",
       "    </tr>\n",
       "  </tbody>\n",
       "</table>\n",
       "<p>311 rows × 11 columns</p>\n",
       "</div>"
      ],
      "text/plain": [
       "                                Title            Author  \\\n",
       "0                           Diplomacy   Henry Kissinger   \n",
       "1             The Happiness Advantage       Shawn Achor   \n",
       "2                The Stuff of Thought     Steven Pinker   \n",
       "3    Civilization and Its Discontents     Sigmund Freud   \n",
       "4                     The Corporation        Joel Bakan   \n",
       "..                                ...               ...   \n",
       "306           A Treasury of Deception  Michael Farquhar   \n",
       "307           The Girls Who Went Away       Ann Fessler   \n",
       "308                      Fatal Vision     Joe McGinniss   \n",
       "309                  The Divided Self        R.D. Laing   \n",
       "310                        Purple Cow        Seth Godin   \n",
       "\n",
       "                                           Description Num_ratings Avg_rating  \\\n",
       "0    A brilliant, sweeping history of diplomacy tha...        6452       4.22   \n",
       "1    Our most commonly held formula for success is ...       23766       4.18   \n",
       "2    New York Times bestselling author Steven Pinke...        9712       3.90   \n",
       "3    It stands as a brilliant summary of the views ...       30963       3.79   \n",
       "4    The inspiration for the film that won the 2004...        4084       4.07   \n",
       "..                                                 ...         ...        ...   \n",
       "306  We may say that honesty is the best policy, bu...         657       3.62   \n",
       "307  A powerful and groundbreaking revelation of th...        5819       4.19   \n",
       "308  Fatal Vision is the electrifying true story of...       22182       4.11   \n",
       "309  In The Divided Self (1960), Laing contrasted t...        4869       4.09   \n",
       "310  The acclaimed Wall Street Journal and Business...       43510       3.77   \n",
       "\n",
       "                                           Genres_list   Main_genre  \\\n",
       "0    {'history': 391, 'politics': 325, 'non-fiction...      history   \n",
       "1    {'non-fiction': 555, 'psychology': 517, 'self-...  non-fiction   \n",
       "2    {'non-fiction': 593, 'science': 412, 'psycholo...  non-fiction   \n",
       "3    {'psychology': 1218, 'philosophy': 909, 'non-f...   psychology   \n",
       "4    {'non-fiction': 196, 'economics': 119, 'politi...  non-fiction   \n",
       "..                                                 ...          ...   \n",
       "306  {'history': 84, 'non-fiction': 62, 'historical...      history   \n",
       "307  {'non-fiction': 438, 'history': 279, 'feminism...  non-fiction   \n",
       "308  {'true-crime': 739, 'non-fiction': 306, 'crime...   true-crime   \n",
       "309  {'psychology': 463, 'non-fiction': 182, 'philo...   psychology   \n",
       "310  {'business': 1317, 'non-fiction': 308, 'entrep...     business   \n",
       "\n",
       "    Secondary_genre Num_pages           ISBN  \\\n",
       "0          politics       912  9780671510992   \n",
       "1        psychology       272  9780307591562   \n",
       "2           science       499  9780670063277   \n",
       "3        philosophy       127  9780393301588   \n",
       "4         economics       228  9780743247467   \n",
       "..              ...       ...            ...   \n",
       "306     non-fiction       304  9780143035442   \n",
       "307         history       354  9781594200946   \n",
       "308     non-fiction       684  9780451165664   \n",
       "309     non-fiction       224  9780140135374   \n",
       "310     non-fiction       160  9781591840213   \n",
       "\n",
       "                                                  Link  \n",
       "0    https://www.goodreads.com//book/show/781183.Di...  \n",
       "1    https://www.goodreads.com//book/show/9484114-t...  \n",
       "2    https://www.goodreads.com//book/show/373969.Th...  \n",
       "3    https://www.goodreads.com//book/show/357636.Ci...  \n",
       "4    https://www.goodreads.com//book/show/108583.Th...  \n",
       "..                                                 ...  \n",
       "306  https://www.goodreads.com//book/show/401503.A_...  \n",
       "307  https://www.goodreads.com//book/show/116477.Th...  \n",
       "308  https://www.goodreads.com//book/show/333907.Fa...  \n",
       "309  https://www.goodreads.com//book/show/496585.Th...  \n",
       "310  https://www.goodreads.com//book/show/641604.Pu...  \n",
       "\n",
       "[311 rows x 11 columns]"
      ]
     },
     "execution_count": 290,
     "metadata": {},
     "output_type": "execute_result"
    }
   ],
   "source": [
    "books_df"
   ]
  },
  {
   "cell_type": "code",
   "execution_count": 292,
   "metadata": {},
   "outputs": [],
   "source": [
    "books_df.to_csv('scraped_books.csv')"
   ]
  },
  {
   "cell_type": "code",
   "execution_count": 244,
   "metadata": {},
   "outputs": [],
   "source": [
    "page=requests.get('https://www.goodreads.com//book/show/53293947-manifesto-of-the-free-people-s-union')\n",
    "soup=BeautifulSoup(page.text, 'html.parser')\n",
    "\n",
    "title = soup.select(\"meta[property='og:title']\")[0]['content']\n",
    "author = soup.find_all('a', class_ = 'authorName')[0].get_text(strip = True)\n",
    "\n",
    "desc = soup.find('div', id = 'description')\n",
    "if desc is not None:\n",
    "    try:\n",
    "        description = desc.find_all('span')[1].get_text()\n",
    "    except:\n",
    "        description = desc.find_all('span')[0].get_text()\n",
    "else:\n",
    "    description = None\n",
    "\n",
    "if soup.find('meta', itemprop = 'ratingCount') is not None:\n",
    "    num_ratings = soup.find('meta', itemprop = 'ratingCount')['content']\n",
    "else:\n",
    "    num_ratings = None\n",
    "\n",
    "if soup.find('span', itemprop = 'ratingValue') is not None:    \n",
    "    rating = soup.find('span', itemprop = 'ratingValue').get_text(strip = 'True')\n",
    "else:\n",
    "    rating = None\n",
    "\n",
    "genre_list, main_genre, secondary_genre = get_main_genres(soup)\n",
    "\n",
    "if soup.select(\"meta[property='books:page_count']\") is not None and len(soup.select(\"meta[property='books:page_count']\")) != 0: \n",
    "    num_pages = soup.select(\"meta[property='books:page_count']\")[0]['content']\n",
    "else:\n",
    "    num_pages = None\n",
    "\n",
    "if soup.select(\"meta[property='books:isbn']\") is not None and len(soup.select(\"meta[property='books:isbn']\")) != 0:\n",
    "    isbn = soup.select(\"meta[property='books:isbn']\")[0]['content']\n",
    "else:\n",
    "    isbn = None\n",
    "\n",
    "book_dict = {\n",
    "    'Title' : title,\n",
    "    'Author' : author,\n",
    "    'Description' : description,\n",
    "    'Num_ratings' : num_ratings,\n",
    "    'Avg_rating' : rating,\n",
    "    'Genres_list' : genre_list,\n",
    "    'Main_genre' : main_genre,\n",
    "    'Secondary_genre': secondary_genre,\n",
    "    'Num_pages' : num_pages,\n",
    "    'ISBN' : isbn,\n",
    "    'Link' : book_url\n",
    "}\n"
   ]
  },
  {
   "cell_type": "code",
   "execution_count": 245,
   "metadata": {},
   "outputs": [
    {
     "data": {
      "text/plain": [
       "{'Title': \"Manifesto of the Free People's Union\",\n",
       " 'Author': 'Jakub Lasak',\n",
       " 'Description': 'The Manifesto of the Free People’s Union presents the faults of the following systems:The Political SystemThe political system is not about creating the best solutions for people, but about politicians fighting for power for themselves.The Financial SystemThe banking system enslaves us and makes us poorer due to the system of fractional reserve, inflation, and other aspects.The Education SystemThe education system does not teach us anything useful. It forces us to memorize things such as maps, useless facts, or solving math equations, as it was useful in the 20th century, but not now.Health CareThe health care system is broken because, for example, pharmaceutical companies don’t want to prevent illnesses, but to keep us ill as long as possible to earn more money.It also presents faults in areas such as economic system, media, food, and othersThen, it proposes, with all the details, a whole new system that will serve us. For example, it presents a new political system, in which governments consist of the best specialist that create solutions which we, the people, can accept or reject.',\n",
       " 'Num_ratings': '15',\n",
       " 'Avg_rating': '4.73',\n",
       " 'Genres_list': {'politics': 1, 'entrepreneurship': 1},\n",
       " 'Main_genre': 'politics',\n",
       " 'Secondary_genre': 'politics',\n",
       " 'Num_pages': None,\n",
       " 'ISBN': 'null',\n",
       " 'Link': 'https://www.goodreads.com//book/show/53293947-manifesto-of-the-free-people-s-union'}"
      ]
     },
     "execution_count": 245,
     "metadata": {},
     "output_type": "execute_result"
    }
   ],
   "source": [
    "book_dict"
   ]
  },
  {
   "cell_type": "code",
   "execution_count": null,
   "metadata": {},
   "outputs": [],
   "source": []
  }
 ],
 "metadata": {
  "kernelspec": {
   "display_name": "Python 3",
   "language": "python",
   "name": "python3"
  },
  "language_info": {
   "codemirror_mode": {
    "name": "ipython",
    "version": 3
   },
   "file_extension": ".py",
   "mimetype": "text/x-python",
   "name": "python",
   "nbconvert_exporter": "python",
   "pygments_lexer": "ipython3",
   "version": "3.7.6"
  }
 },
 "nbformat": 4,
 "nbformat_minor": 4
}
